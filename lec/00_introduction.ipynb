{
 "cells": [
  {
   "cell_type": "markdown",
   "id": "87237015",
   "metadata": {},
   "source": [
    "# Chapter 1: Introduction "
   ]
  },
  {
   "cell_type": "markdown",
   "id": "f346cd6c",
   "metadata": {},
   "source": [
    "An *algorithm* is a sequence of well-defined, computer-implementable instructions, typically to solve a problem or to perform a computation.\n",
    "\n",
    "**Learning objectives:**\n",
    "\n",
    "* Explain what an algorithm is\n",
    "* Give examples of algorithms\n",
    "* Appreciate the value of algorithms and computer programming"
   ]
  },
  {
   "cell_type": "markdown",
   "id": "e1bab501",
   "metadata": {},
   "source": [
    "## 1.1. Computer Programming <a id=\"s1\"></a>\n",
    "\n",
    "Computer programming is the process of writing code (aka, coding) to instruct a computer to accomplish a specific task. These tasks can be as simple as performing a mathematical calculation. They can also be as complex as reading data from a file to perform data analysis, simulating an automotive design, simulating the structural response of a bridge to an earthquake, among others."
   ]
  },
  {
   "cell_type": "markdown",
   "id": "841f33e5",
   "metadata": {},
   "source": [
    "### 1.1.1. Simple Algorithm\n",
    "\n",
    "We can use computer programming to perform simple calculations.\n",
    "\n",
    "> <font color='#0080FF'>**💡 TRY IT!**</font>  \n",
    "> Compute $1 + 2$ in in the cell below."
   ]
  },
  {
   "cell_type": "code",
   "execution_count": null,
   "id": "5a89778a",
   "metadata": {},
   "outputs": [],
   "source": [
    "# WRITE YOUR CODE HERE"
   ]
  },
  {
   "cell_type": "markdown",
   "id": "d40b14af",
   "metadata": {},
   "source": [
    "### 1.1.2. More Complex Algorithm\n",
    "\n",
    "Computer programming can dramatically elevate the quality and efficiency of your work by performing more complex tasks.\n",
    "\n",
    "> <font color='#0080FF'>**💡 TRY IT!**</font>  \n",
    "> Read the file `engin7_roster.csv`."
   ]
  },
  {
   "cell_type": "code",
   "execution_count": 1,
   "id": "f0d1f02e",
   "metadata": {},
   "outputs": [],
   "source": [
    "# Run this cell to get the file for engin7_roster.csv\n",
    "!curl -s -L https://raw.githubusercontent.com/jsadek11/E7-Lecture-Book/main/lec/resources/engin7_roster.csv -o engin7_roster.csv"
   ]
  },
  {
   "cell_type": "code",
   "execution_count": null,
   "id": "38f406b0",
   "metadata": {},
   "outputs": [],
   "source": [
    "# import pandas\n",
    "import pandas as pd\n",
    "\n",
    "# read csv file using pd.read_csv()\n",
    "df = ...\n",
    "\n",
    "# show first few rows\n",
    "..."
   ]
  },
  {
   "cell_type": "markdown",
   "id": "bf16ca06",
   "metadata": {},
   "source": [
    "> <font color='#0080FF'>**💡 TRY IT!**</font>  \n",
    "> Group students based on their `Major 1`."
   ]
  },
  {
   "cell_type": "code",
   "execution_count": null,
   "id": "d12c9a73",
   "metadata": {},
   "outputs": [],
   "source": [
    "# grouping and counting entries in each major using df.groupby(['group'])['group'].count()\n",
    "df_grouped = ...\n",
    "df_grouped"
   ]
  },
  {
   "cell_type": "markdown",
   "id": "a1fcbb5e",
   "metadata": {},
   "source": [
    "> <font color='#0080FF'>**💡 TRY IT!**</font>  \n",
    "> Plot a bar chart of students based on their `Major 1`."
   ]
  },
  {
   "cell_type": "code",
   "execution_count": null,
   "id": "6d4cbe26",
   "metadata": {},
   "outputs": [],
   "source": [
    "# plotting bar chart\n",
    "df_grouped_sorted = df_grouped.sort_values(ascending=True) \n",
    "df_grouped.plot.barh(x='Major 1', figsize=(5,7))"
   ]
  },
  {
   "cell_type": "markdown",
   "id": "071cac74",
   "metadata": {},
   "source": [
    "### 1.1.3. Reasons to Learn Programming\n",
    "\n",
    "* Programming compels you to uncover your underlying logic and fosters transparency\n",
    "* It prompts you to structure your work systematically, facilitating sharing with others\n",
    "* It makes your work reproducible \n",
    "\n",
    "By employing your programs repeatedly, you can efficiently navigate mundane tasks and optimize your productivity. \n",
    "\n",
    "*All scientists and engineers should learn how to code – it will transform you*.\n",
    "\n",
    "> <font color='#0080FF'>**💡 TRY IT!**</font>  \n",
    "> Repeat the above for `civeng93_roster.csv`."
   ]
  },
  {
   "cell_type": "code",
   "execution_count": null,
   "id": "3fe93131",
   "metadata": {},
   "outputs": [],
   "source": [
    "# Run this cell to get the file for civeng93_roster.csv\n",
    "!curl -s -L https://raw.githubusercontent.com/jsadek11/E7-Lecture-Book/main/lec/resources/civeng93_roster.csv -o civeng93_roster.csv"
   ]
  },
  {
   "cell_type": "code",
   "execution_count": 1,
   "id": "e3686cbe",
   "metadata": {},
   "outputs": [],
   "source": [
    "# WRITE YOUR CODE HERE"
   ]
  }
 ],
 "metadata": {
  "kernelspec": {
   "display_name": "Python 3",
   "language": "python",
   "name": "python3"
  },
  "language_info": {
   "codemirror_mode": {
    "name": "ipython",
    "version": 3
   },
   "file_extension": ".py",
   "mimetype": "text/x-python",
   "name": "python",
   "nbconvert_exporter": "python",
   "pygments_lexer": "ipython3",
   "version": "3.13.7"
  }
 },
 "nbformat": 4,
 "nbformat_minor": 5
}
